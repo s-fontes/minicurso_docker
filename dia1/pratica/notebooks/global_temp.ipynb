{
 "cells": [
  {
   "cell_type": "code",
   "execution_count": null,
   "id": "e20b2bca-a1c4-4ef4-8a00-b81be65dc085",
   "metadata": {},
   "outputs": [],
   "source": [
    "!pip install -q numpy pandas matplotlib scikit-learn"
   ]
  },
  {
   "cell_type": "code",
   "execution_count": null,
   "id": "9483adee-2084-4e78-a087-03f35a12ee76",
   "metadata": {},
   "outputs": [],
   "source": [
    "import numpy as np\n",
    "import pandas as pd\n",
    "import matplotlib.pyplot as plt\n",
    "\n",
    "from sklearn.linear_model import LinearRegression"
   ]
  },
  {
   "cell_type": "markdown",
   "id": "2b244731-e38b-4adc-9b86-a7846836f497",
   "metadata": {},
   "source": [
    "[Global Temperature Dataset (GitHub)](https://github.com/datasets/global-temp)\n",
    "* Este repositório contém séries temporais mensais de anomalias de temperatura global desde 1850, com dados das fontes NOAA (GCAG) e NASA (GISTEMP)."
   ]
  },
  {
   "cell_type": "code",
   "execution_count": null,
   "id": "b50b01b7-29c0-451c-b3a4-444dff52e627",
   "metadata": {},
   "outputs": [],
   "source": [
    "url = \"https://raw.githubusercontent.com/datasets/global-temp/master/data/monthly.csv\"\n",
    "df = pd.read_csv(url)\n",
    "\n",
    "df[\"date\"] = pd.to_datetime(df[\"Year\"])\n",
    "df[\"value\"] = df[\"Mean\"].astype(np.float64)\n",
    "df[\"Source\"] = df[\"Source\"].str.upper()\n",
    "\n",
    "df = df[[\"Source\", \"date\", \"value\"]]\n",
    "\n",
    "df_gcag = df[df[\"Source\"] == \"GCAG\"].drop(\"Source\", axis=1).copy()\n",
    "df_gistemp = df[df[\"Source\"] == \"GISTEMP\"].drop(\"Source\", axis=1).copy()"
   ]
  },
  {
   "cell_type": "code",
   "execution_count": null,
   "id": "f057a52b-fe0a-431b-aec6-184e0f2705f7",
   "metadata": {},
   "outputs": [],
   "source": [
    "def prever_anomalia(df, anos=100):\n",
    "    df = df.copy()\n",
    "    df = df.sort_values('date')\n",
    "    df['timestamp'] = df['date'].astype('int64') // 10**9\n",
    "    X = df[['timestamp']]\n",
    "    y = df['value'].astype(np.float64)\n",
    "\n",
    "    modelo = LinearRegression()\n",
    "    modelo.fit(X, y)\n",
    "\n",
    "    data_final = df['date'].max()\n",
    "    datas_futuras = pd.date_range(start=data_final, periods=anos * 12, freq='ME')\n",
    "    timestamps_futuros = datas_futuras.astype('int64') // 10**9\n",
    "    X_futuro = pd.DataFrame({'timestamp': timestamps_futuros})\n",
    "\n",
    "    previsoes = modelo.predict(X_futuro)\n",
    "    df_pred = pd.DataFrame({'date': datas_futuras, 'value': previsoes.astype(np.float64)})\n",
    "\n",
    "    return df_pred"
   ]
  },
  {
   "cell_type": "code",
   "execution_count": null,
   "id": "73d75c4a-f20e-4784-a3e6-c3c1c4e36712",
   "metadata": {},
   "outputs": [],
   "source": [
    "def plotar_previsao(df_real, df_pred, fonte):\n",
    "    plt.figure(figsize=(12, 5))\n",
    "\n",
    "    plt.plot(df_real['date'], df_real['value'], label=f'Histórico ({fonte})', color='orange')\n",
    "\n",
    "    plt.plot(df_pred['date'], df_pred['value'], label=f'Previsão ({fonte})', linestyle='--', color='blue')\n",
    "\n",
    "    plt.axhline(0, color='gray', linestyle='--', linewidth=1)\n",
    "    \n",
    "    plt.title(f'Histórico e Previsão de Anomalia de Temperatura ({fonte})')\n",
    "    plt.xlabel('Ano')\n",
    "    plt.ylabel('Δ Temperatura (°C)')\n",
    "    plt.legend()\n",
    "    plt.grid(True)\n",
    "    plt.tight_layout()\n",
    "    plt.show()"
   ]
  },
  {
   "cell_type": "code",
   "execution_count": null,
   "id": "718c0386-7edd-480e-81a6-2b2658c83f9e",
   "metadata": {},
   "outputs": [],
   "source": [
    "df_pred_gcag = prever_anomalia(df_gcag)\n",
    "plotar_previsao(df_gcag, df_pred_gcag, 'GCAG')\n",
    "df_pred_gistemp = prever_anomalia(df_gistemp)\n",
    "plotar_previsao(df_gistemp, df_pred_gistemp, 'GISTEMP')"
   ]
  }
 ],
 "metadata": {
  "kernelspec": {
   "display_name": "Python 3 (ipykernel)",
   "language": "python",
   "name": "python3"
  },
  "language_info": {
   "codemirror_mode": {
    "name": "ipython",
    "version": 3
   },
   "file_extension": ".py",
   "mimetype": "text/x-python",
   "name": "python",
   "nbconvert_exporter": "python",
   "pygments_lexer": "ipython3",
   "version": "3.11.6"
  }
 },
 "nbformat": 4,
 "nbformat_minor": 5
}
